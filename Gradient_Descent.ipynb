{
  "nbformat": 4,
  "nbformat_minor": 0,
  "metadata": {
    "colab": {
      "provenance": [],
      "authorship_tag": "ABX9TyP3rreEzZ7riwvXH7Tzy2Qc",
      "include_colab_link": true
    },
    "kernelspec": {
      "name": "python3",
      "display_name": "Python 3"
    },
    "language_info": {
      "name": "python"
    }
  },
  "cells": [
    {
      "cell_type": "markdown",
      "metadata": {
        "id": "view-in-github",
        "colab_type": "text"
      },
      "source": [
        "<a href=\"https://colab.research.google.com/github/aishaHadi375/Machine-Learning-Algorithm-From-Scratch/blob/main/Gradient_Descent.ipynb\" target=\"_parent\"><img src=\"https://colab.research.google.com/assets/colab-badge.svg\" alt=\"Open In Colab\"/></a>"
      ]
    },
    {
      "cell_type": "markdown",
      "source": [
        " ***Gradient Descent Class***\n",
        "\n",
        "---\n",
        "\n",
        "\n",
        "1.   Batch Gradient Descent Implementation from scratch\n",
        "\n",
        "\n",
        "\n",
        "\n",
        "\n",
        "\n"
      ],
      "metadata": {
        "id": "qS4gTdvmUHk0"
      }
    },
    {
      "cell_type": "code",
      "execution_count": null,
      "metadata": {
        "id": "Y0ae6hbjT98W"
      },
      "outputs": [],
      "source": [
        "class GradientDescent:\n",
        "  def __init__(self, learning_rate=0.01, epochs=100):\n",
        "    self.learning_rate = learning_rate\n",
        "    self.epoch = epochs\n",
        "    self.m = 100\n",
        "    self.b = -120\n",
        "  def fit(self,X,y):\n",
        "    for i in range(self.epoch):\n",
        "      loss_slope_b= -2*np.sum(y-self.m*X.ravel()-self.b)\n",
        "      self.b=self.b-self.learning_rate*loss_slope_b\n",
        "      loss_slope_m= -2*np.sum((y-self.m*X.ravel()-self.b)*X.ravel())\n",
        "      self.m=self.m-self.learning_rate*loss_slope_m\n",
        "    def predict(self,X):\n",
        "      return self.m*X+self.b"
      ]
    },
    {
      "cell_type": "markdown",
      "source": [
        "# **Batch Gradient Descent For n-dimensional**"
      ],
      "metadata": {
        "id": "pS3rPZRnWzoJ"
      }
    },
    {
      "cell_type": "code",
      "source": [
        "class BGradientDescent:\n",
        "  def __init__(self, learning_rate=0.01, epochs=100):\n",
        "    self.learning_rate = learning_rate\n",
        "    self.epochs = epochs\n",
        "    self.coef_ = None\n",
        "    self.intercept_ = None\n",
        "  def fit(self,X_train,y_train):\n",
        "    for i in range(self.epoch):\n",
        "      y_hat = np.dot(X_train,self.coef_) + self.intercept_\n",
        "      intercept_der= -2 * np.mean(y_train - y_hat)\n",
        "      self.intercept_ = self.intercept_ - (self.learning_rate*intercept_der )\n",
        "      coef_der= -2 * np.dot((y_train - y_hat),X_train)/X_train.shape[0]\n",
        "      self.m=self.coef_ -(self.learning_rate* coef_der)\n",
        "    def predict(self,X_test):\n",
        "      return np.dot(X_test,self.coef_) + self.intercept_"
      ],
      "metadata": {
        "id": "Pc3PPizuXNuJ"
      },
      "execution_count": null,
      "outputs": []
    }
  ]
}
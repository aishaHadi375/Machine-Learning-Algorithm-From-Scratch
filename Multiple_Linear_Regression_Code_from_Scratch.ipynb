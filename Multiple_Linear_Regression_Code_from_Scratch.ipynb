{
  "nbformat": 4,
  "nbformat_minor": 0,
  "metadata": {
    "colab": {
      "provenance": [],
      "authorship_tag": "ABX9TyPgIuTduPn+c70JCLcGIbCJ",
      "include_colab_link": true
    },
    "kernelspec": {
      "name": "python3",
      "display_name": "Python 3"
    },
    "language_info": {
      "name": "python"
    }
  },
  "cells": [
    {
      "cell_type": "markdown",
      "metadata": {
        "id": "view-in-github",
        "colab_type": "text"
      },
      "source": [
        "<a href=\"https://colab.research.google.com/github/aishaHadi375/Machine-Learning-Algorithm-From-Scratch/blob/main/Multiple_Linear_Regression_Code_from_Scratch.ipynb\" target=\"_parent\"><img src=\"https://colab.research.google.com/assets/colab-badge.svg\" alt=\"Open In Colab\"/></a>"
      ]
    },
    {
      "cell_type": "markdown",
      "source": [
        "#**Multiple Linear Regression Class**"
      ],
      "metadata": {
        "id": "KFzd3JhaRKmw"
      }
    },
    {
      "cell_type": "markdown",
      "source": [
        "#Code From Scratch"
      ],
      "metadata": {
        "id": "p8dIUIQ7RTfj"
      }
    },
    {
      "cell_type": "code",
      "source": [
        "class MultipleLinearRegression():\n",
        "  def __init__(self):\n",
        "    self.coef_ = None\n",
        "    self.intercept_ = None\n",
        "  def  fit(self,X_train,y_train):\n",
        "    X_train=np.insert(X_train,0,1,axis=1)\n",
        "    betas=np.linalg.inv(np.dot(X_train.T,X_train)).dot(X_train.T).dot(y_train)\n",
        "    self.intercept_=betas[0]\n",
        "    self.coef_betas[1:]\n",
        "    return self.coef_,self.intercept_\n",
        "  def predict(self,X_test):\n",
        "    y_pred=np.dot(X_test,self.coef_)+self.intercept_\n",
        "    return y_pred"
      ],
      "metadata": {
        "id": "J4_K_wNPRXZx"
      },
      "execution_count": null,
      "outputs": []
    }
  ]
}
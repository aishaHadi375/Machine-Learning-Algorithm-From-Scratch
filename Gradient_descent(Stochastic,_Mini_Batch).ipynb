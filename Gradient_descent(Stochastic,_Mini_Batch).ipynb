{
  "nbformat": 4,
  "nbformat_minor": 0,
  "metadata": {
    "colab": {
      "provenance": [],
      "authorship_tag": "ABX9TyOQ9t7lX/xoFHq+H2XwSb4B",
      "include_colab_link": true
    },
    "kernelspec": {
      "name": "python3",
      "display_name": "Python 3"
    },
    "language_info": {
      "name": "python"
    }
  },
  "cells": [
    {
      "cell_type": "markdown",
      "metadata": {
        "id": "view-in-github",
        "colab_type": "text"
      },
      "source": [
        "<a href=\"https://colab.research.google.com/github/aishaHadi375/Machine-Learning-Algorithm-From-Scratch/blob/main/Gradient_descent(Stochastic%2C_Mini_Batch).ipynb\" target=\"_parent\"><img src=\"https://colab.research.google.com/assets/colab-badge.svg\" alt=\"Open In Colab\"/></a>"
      ]
    },
    {
      "cell_type": "markdown",
      "source": [
        "#***Stochastic Gradient Descent Regressor***\n",
        "\n",
        "---\n",
        "# Code From Scratch\n",
        "\n"
      ],
      "metadata": {
        "id": "ceNmRQNSet6_"
      }
    },
    {
      "cell_type": "code",
      "execution_count": null,
      "metadata": {
        "id": "gTR8z7oDdaWw"
      },
      "outputs": [],
      "source": [
        "class SGradientDescent:\n",
        "  def __init__(self, learning_rate=0.01, epochs=100):\n",
        "    self.learning_rate = learning_rate\n",
        "    self.epochs = epochs\n",
        "    self.coef_ = np.ones(X_train.shape[1])\n",
        "    self.intercept_ = 0\n",
        "  def fit(self,X_train,y_train):\n",
        "    for i in range(self.epoch):\n",
        "      for j in range(X_train.shape[0]):\n",
        "         idx= np.random.randint(0,X_train.shape[0])\n",
        "         y_hat = np.dot(X_train[idx],self.coef_) + self.intercept_\n",
        "         intercept_der= -2 *(y_train[idx] - y_hat)\n",
        "         self.intercept_ = self.intercept_ - (self.learning_rate*intercept_der )\n",
        "         coef_der= -2 * np.dot((y_train[idx] - y_hat),X_train[idx])\n",
        "         self.coef_=self.coef_ -(self.learning_rate* coef_der)\n",
        "    def predict(self,X_test):\n",
        "      return np.dot(X_test,self.coef_) + self.intercept_"
      ]
    },
    {
      "cell_type": "markdown",
      "source": [
        "#***Mini Batch Gradient Descent***\n",
        "\n",
        "---\n",
        "#Code From Scratch\n"
      ],
      "metadata": {
        "id": "noEEN0U1fGr6"
      }
    },
    {
      "cell_type": "code",
      "source": [
        "class MiniBatchGD:\n",
        "  def __init__(self,batch_size, learning_rate=0.01, epochs=100):\n",
        "    self.learning_rate = learning_rate\n",
        "    self.epochs = epochs\n",
        "    self.batch_size = batch_size\n",
        "    self.coef_ = np.ones(X_train.shape[1])\n",
        "    self.intercept_ = 0\n",
        "  def fit(self,X_train,y_train):\n",
        "    for i in range(self.epoch):\n",
        "      for j in range(int(X_train.shape[0]/self.batch_size)):\n",
        "         idx= np.random.sample(range(X_train.shape[0]),self.batch_size)\n",
        "         y_hat = np.dot(X_train[idx],self.coef_) + self.intercept_\n",
        "         intercept_der= -2 * np.mean(y_train[idx] - y_hat)\n",
        "         self.intercept_ = self.intercept_ - (self.learning_rate*intercept_der )\n",
        "         coef_der= -2 * np.dot((y_train[idx] - y_hat),X_train[idx])\n",
        "         self.coef_=self.coef_ -(self.learning_rate* coef_der)\n",
        "    def predict(self,X_test):\n",
        "      return np.dot(X_test,self.coef_) + self.intercept_"
      ],
      "metadata": {
        "id": "-JW0ckEXfFz7"
      },
      "execution_count": null,
      "outputs": []
    }
  ]
}